{
 "cells": [
  {
   "cell_type": "code",
   "execution_count": 1,
   "metadata": {},
   "outputs": [
    {
     "name": "stdout",
     "output_type": "stream",
     "text": [
      "<class 'int'>\n",
      "<class 'type'>\n"
     ]
    }
   ],
   "source": [
    "print(int)\n",
    "print(type(int))"
   ]
  },
  {
   "cell_type": "code",
   "execution_count": 2,
   "metadata": {},
   "outputs": [
    {
     "data": {
      "text/plain": [
       "[0, 0, 0, 0, 0]"
      ]
     },
     "execution_count": 2,
     "metadata": {},
     "output_type": "execute_result"
    }
   ],
   "source": [
    "[0] * 5"
   ]
  },
  {
   "cell_type": "code",
   "execution_count": 1,
   "metadata": {},
   "outputs": [
    {
     "data": {
      "text/plain": [
       "[5, 5, 5, 3, 3]"
      ]
     },
     "execution_count": 1,
     "metadata": {},
     "output_type": "execute_result"
    }
   ],
   "source": [
    "[5] * 3 + ([3] * 2)"
   ]
  },
  {
   "cell_type": "code",
   "execution_count": 4,
   "metadata": {},
   "outputs": [
    {
     "name": "stdout",
     "output_type": "stream",
     "text": [
      "<class 'range'>\n"
     ]
    }
   ],
   "source": [
    "print(type(range(0,1)))"
   ]
  },
  {
   "cell_type": "markdown",
   "metadata": {},
   "source": [
    "An iterable vs iterator\n",
    "\n",
    "iterable: \n",
    "    Object capable of returning its members one at a time.\n",
    "    Implements the __inter__() method, which returns an iterator.\n",
    "    ex: list, tuples, strings, ... etc.\n",
    "    You can use them in loops or pass them to list(), tuple(), sum().\n",
    "\n",
    "iterator:\n",
    "    Object representing a stream of data.\n",
    "    Implements __iter__() but also __next__().\n",
    "    __next__() method returns the next item in the stream and raises a StopIteration\n",
    "    expection when there are no more items.\n",
    "    You can get an iterator by using .iter()"
   ]
  },
  {
   "cell_type": "code",
   "execution_count": 4,
   "metadata": {},
   "outputs": [
    {
     "name": "stdout",
     "output_type": "stream",
     "text": [
      "0\n",
      "0\n",
      "0\n",
      "0\n",
      "0\n"
     ]
    }
   ],
   "source": [
    "import ds_array as dsa\n",
    "\n",
    "my_array = dsa.Array(5, int)  \n",
    "\n",
    "# Now you can iterate over it:\n",
    "for item in my_array:\n",
    "    print(item)  # Output: 0 0 0 0 0 \n",
    "\n",
    "# Now you can iterate over it:\n",
    "for item in my_array:\n",
    "    print(item)  # Output: 0 0 0 0 0 \n",
    "    \n"
   ]
  },
  {
   "cell_type": "code",
   "execution_count": 2,
   "metadata": {},
   "outputs": [
    {
     "name": "stdout",
     "output_type": "stream",
     "text": [
      "[0, 0, 0, 0, 0]\n"
     ]
    }
   ],
   "source": [
    "print(my_array)"
   ]
  },
  {
   "cell_type": "code",
   "execution_count": 1,
   "metadata": {},
   "outputs": [],
   "source": [
    "import unittest\n",
    "from ds_array import Array  # Replace 'your_array_module' with the actual module name\n",
    "\n",
    "class TestArrayConstructor(unittest.TestCase):\n",
    "\n",
    "    def test_valid_size(self):\n",
    "        \"\"\"Test creating an array with a valid size.\"\"\"\n",
    "        sizes = [1, 5, 10, 100]\n",
    "        types = [int, float, str]\n",
    "\n",
    "        for size in sizes:\n",
    "            for typeof in types:\n",
    "                arr = Array(size, typeof)\n",
    "                self.assertEqual(arr._max_size, size)\n",
    "                self.assertEqual(arr._current_size, 0)\n",
    "                self.assertEqual(len(arr._allocated_cell), size)\n",
    "                self.assertEqual(arr._iter_position, 0)\n",
    "                self.assertIsInstance(arr._allocated_cell, list)\n",
    "\n",
    "    def test_zero_size(self):\n",
    "        \"\"\"Test creating an array with size zero (should raise ValueError).\"\"\"\n",
    "        with self.assertRaises(ValueError) as context:\n",
    "            Array(0, int)\n",
    "        self.assertEqual(str(context.exception), \"Size: 0, must be larger than zero\")\n",
    "\n",
    "    def test_negative_size(self):\n",
    "        \"\"\"Test creating an array with a negative size (should raise ValueError).\"\"\"\n",
    "        with self.assertRaises(ValueError) as context:\n",
    "            Array(-5, float)\n",
    "        self.assertEqual(str(context.exception), \"Size: -5, must be larger than zero\")\n",
    "\n",
    "    def test_non_integer_size(self):\n",
    "        \"\"\"Test creating an array with a non-integer size (should raise ValueError).\"\"\"\n",
    "        invalid_sizes = [\"abc\", 3.14, True]\n",
    "\n",
    "        for size in invalid_sizes:\n",
    "            with self.assertRaises(ValueError) as context:\n",
    "                Array(size, str)\n",
    "            self.assertTrue(\n",
    "                str(context.exception).startswith(f\"Value: {size}, of type:\")\n",
    "            )\n",
    "\n"
   ]
  },
  {
   "cell_type": "code",
   "execution_count": 7,
   "metadata": {},
   "outputs": [],
   "source": [
    "import inspect\n",
    "methods = [method_name for method_name, obj in inspect.getmembers(TestArrayConstructor) if inspect.isfunction(obj)]"
   ]
  },
  {
   "cell_type": "code",
   "execution_count": 8,
   "metadata": {},
   "outputs": [
    {
     "data": {
      "text/plain": [
       "['__call__',\n",
       " '__eq__',\n",
       " '__hash__',\n",
       " '__init__',\n",
       " '__repr__',\n",
       " '__str__',\n",
       " '_addExpectedFailure',\n",
       " '_addSkip',\n",
       " '_addUnexpectedSuccess',\n",
       " '_baseAssertEqual',\n",
       " '_callCleanup',\n",
       " '_callSetUp',\n",
       " '_callTearDown',\n",
       " '_callTestMethod',\n",
       " '_deprecate',\n",
       " '_feedErrorsToResult',\n",
       " '_formatMessage',\n",
       " '_getAssertEqualityFunc',\n",
       " '_truncateMessage',\n",
       " 'addCleanup',\n",
       " 'addTypeEqualityFunc',\n",
       " 'assertAlmostEqual',\n",
       " 'assertAlmostEquals',\n",
       " 'assertCountEqual',\n",
       " 'assertDictContainsSubset',\n",
       " 'assertDictEqual',\n",
       " 'assertEqual',\n",
       " 'assertEquals',\n",
       " 'assertFalse',\n",
       " 'assertGreater',\n",
       " 'assertGreaterEqual',\n",
       " 'assertIn',\n",
       " 'assertIs',\n",
       " 'assertIsInstance',\n",
       " 'assertIsNone',\n",
       " 'assertIsNot',\n",
       " 'assertIsNotNone',\n",
       " 'assertLess',\n",
       " 'assertLessEqual',\n",
       " 'assertListEqual',\n",
       " 'assertLogs',\n",
       " 'assertMultiLineEqual',\n",
       " 'assertNoLogs',\n",
       " 'assertNotAlmostEqual',\n",
       " 'assertNotAlmostEquals',\n",
       " 'assertNotEqual',\n",
       " 'assertNotEquals',\n",
       " 'assertNotIn',\n",
       " 'assertNotIsInstance',\n",
       " 'assertNotRegex',\n",
       " 'assertNotRegexpMatches',\n",
       " 'assertRaises',\n",
       " 'assertRaisesRegex',\n",
       " 'assertRaisesRegexp',\n",
       " 'assertRegex',\n",
       " 'assertRegexpMatches',\n",
       " 'assertSequenceEqual',\n",
       " 'assertSetEqual',\n",
       " 'assertTrue',\n",
       " 'assertTupleEqual',\n",
       " 'assertWarns',\n",
       " 'assertWarnsRegex',\n",
       " 'assert_',\n",
       " 'countTestCases',\n",
       " 'debug',\n",
       " 'defaultTestResult',\n",
       " 'doCleanups',\n",
       " 'fail',\n",
       " 'failIf',\n",
       " 'failIfAlmostEqual',\n",
       " 'failIfEqual',\n",
       " 'failUnless',\n",
       " 'failUnlessAlmostEqual',\n",
       " 'failUnlessEqual',\n",
       " 'failUnlessRaises',\n",
       " 'id',\n",
       " 'run',\n",
       " 'setUp',\n",
       " 'shortDescription',\n",
       " 'skipTest',\n",
       " 'subTest',\n",
       " 'tearDown',\n",
       " 'test_negative_size',\n",
       " 'test_non_integer_size',\n",
       " 'test_valid_size',\n",
       " 'test_zero_size']"
      ]
     },
     "execution_count": 8,
     "metadata": {},
     "output_type": "execute_result"
    }
   ],
   "source": [
    "methods"
   ]
  }
 ],
 "metadata": {
  "kernelspec": {
   "display_name": "ml0",
   "language": "python",
   "name": "python3"
  },
  "language_info": {
   "codemirror_mode": {
    "name": "ipython",
    "version": 3
   },
   "file_extension": ".py",
   "mimetype": "text/x-python",
   "name": "python",
   "nbconvert_exporter": "python",
   "pygments_lexer": "ipython3",
   "version": "3.10.14"
  }
 },
 "nbformat": 4,
 "nbformat_minor": 2
}
