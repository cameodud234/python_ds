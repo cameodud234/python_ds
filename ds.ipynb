{
 "cells": [
  {
   "cell_type": "code",
   "execution_count": 1,
   "metadata": {},
   "outputs": [
    {
     "name": "stdout",
     "output_type": "stream",
     "text": [
      "<class 'int'>\n",
      "<class 'type'>\n"
     ]
    }
   ],
   "source": [
    "print(int)\n",
    "print(type(int))"
   ]
  },
  {
   "cell_type": "code",
   "execution_count": 2,
   "metadata": {},
   "outputs": [
    {
     "data": {
      "text/plain": [
       "[0, 0, 0, 0, 0]"
      ]
     },
     "execution_count": 2,
     "metadata": {},
     "output_type": "execute_result"
    }
   ],
   "source": [
    "[0] * 5"
   ]
  },
  {
   "cell_type": "code",
   "execution_count": 1,
   "metadata": {},
   "outputs": [
    {
     "data": {
      "text/plain": [
       "[5, 5, 5, 3, 3]"
      ]
     },
     "execution_count": 1,
     "metadata": {},
     "output_type": "execute_result"
    }
   ],
   "source": [
    "[5] * 3 + ([3] * 2)"
   ]
  },
  {
   "cell_type": "code",
   "execution_count": 4,
   "metadata": {},
   "outputs": [
    {
     "name": "stdout",
     "output_type": "stream",
     "text": [
      "<class 'range'>\n"
     ]
    }
   ],
   "source": [
    "print(type(range(0,1)))"
   ]
  },
  {
   "cell_type": "markdown",
   "metadata": {},
   "source": [
    "An iterable vs iterator\n",
    "\n",
    "iterable: \n",
    "    Object capable of returning its members one at a time.\n",
    "    Implements the __inter__() method, which returns an iterator.\n",
    "    ex: list, tuples, strings, ... etc.\n",
    "    You can use them in loops or pass them to list(), tuple(), sum().\n",
    "\n",
    "iterator:\n",
    "    Object representing a stream of data.\n",
    "    Implements __iter__() but also __next__().\n",
    "    __next__() method returns the next item in the stream and raises a StopIteration\n",
    "    expection when there are no more items.\n",
    "    You can get an iterator by using .iter()"
   ]
  },
  {
   "cell_type": "code",
   "execution_count": 4,
   "metadata": {},
   "outputs": [
    {
     "name": "stdout",
     "output_type": "stream",
     "text": [
      "0\n",
      "0\n",
      "0\n",
      "0\n",
      "0\n"
     ]
    }
   ],
   "source": [
    "import ds_array as dsa\n",
    "\n",
    "my_array = dsa.Array(5, int)  \n",
    "\n",
    "# Now you can iterate over it:\n",
    "for item in my_array:\n",
    "    print(item)  # Output: 0 0 0 0 0 \n",
    "\n",
    "# Now you can iterate over it:\n",
    "for item in my_array:\n",
    "    print(item)  # Output: 0 0 0 0 0 \n",
    "    \n"
   ]
  },
  {
   "cell_type": "code",
   "execution_count": 2,
   "metadata": {},
   "outputs": [
    {
     "name": "stdout",
     "output_type": "stream",
     "text": [
      "[0, 0, 0, 0, 0]\n"
     ]
    }
   ],
   "source": [
    "print(my_array)"
   ]
  }
 ],
 "metadata": {
  "kernelspec": {
   "display_name": "ml0",
   "language": "python",
   "name": "python3"
  },
  "language_info": {
   "codemirror_mode": {
    "name": "ipython",
    "version": 3
   },
   "file_extension": ".py",
   "mimetype": "text/x-python",
   "name": "python",
   "nbconvert_exporter": "python",
   "pygments_lexer": "ipython3",
   "version": "3.10.14"
  }
 },
 "nbformat": 4,
 "nbformat_minor": 2
}
