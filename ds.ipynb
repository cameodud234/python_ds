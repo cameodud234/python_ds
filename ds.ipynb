{
 "cells": [
  {
   "cell_type": "code",
   "execution_count": 1,
   "metadata": {},
   "outputs": [
    {
     "name": "stdout",
     "output_type": "stream",
     "text": [
      "<class 'int'>\n",
      "<class 'type'>\n"
     ]
    }
   ],
   "source": [
    "print(int)\n",
    "print(type(int))"
   ]
  },
  {
   "cell_type": "code",
   "execution_count": 2,
   "metadata": {},
   "outputs": [
    {
     "data": {
      "text/plain": [
       "[0, 0, 0, 0, 0]"
      ]
     },
     "execution_count": 2,
     "metadata": {},
     "output_type": "execute_result"
    }
   ],
   "source": [
    "[0] * 5"
   ]
  },
  {
   "cell_type": "code",
   "execution_count": 1,
   "metadata": {},
   "outputs": [
    {
     "data": {
      "text/plain": [
       "[5, 5, 5, 3, 3]"
      ]
     },
     "execution_count": 1,
     "metadata": {},
     "output_type": "execute_result"
    }
   ],
   "source": [
    "[5] * 3 + ([3] * 2)"
   ]
  },
  {
   "cell_type": "code",
   "execution_count": 4,
   "metadata": {},
   "outputs": [
    {
     "name": "stdout",
     "output_type": "stream",
     "text": [
      "<class 'range'>\n"
     ]
    }
   ],
   "source": [
    "print(type(range(0,1)))"
   ]
  },
  {
   "cell_type": "markdown",
   "metadata": {},
   "source": [
    "An iterable vs iterator\n",
    "\n",
    "iterable: \n",
    "    Object capable of returning its members one at a time.\n",
    "    Implements the __inter__() method, which returns an iterator.\n",
    "    ex: list, tuples, strings, ... etc.\n",
    "    You can use them in loops or pass them to list(), tuple(), sum().\n",
    "\n",
    "iterator:\n",
    "    Object representing a stream of data.\n",
    "    Implements __iter__() but also __next__().\n",
    "    __next__() method returns the next item in the stream and raises a StopIteration\n",
    "    expection when there are no more items.\n",
    "    You can get an iterator by using .iter()"
   ]
  },
  {
   "cell_type": "code",
   "execution_count": 4,
   "metadata": {},
   "outputs": [
    {
     "name": "stdout",
     "output_type": "stream",
     "text": [
      "0\n",
      "0\n",
      "0\n",
      "0\n",
      "0\n"
     ]
    }
   ],
   "source": [
    "import ds_array as dsa\n",
    "\n",
    "my_array = dsa.Array(5, int)  \n",
    "\n",
    "# Now you can iterate over it:\n",
    "for item in my_array:\n",
    "    print(item)  # Output: 0 0 0 0 0 \n",
    "\n",
    "# Now you can iterate over it:\n",
    "for item in my_array:\n",
    "    print(item)  # Output: 0 0 0 0 0 \n",
    "    \n"
   ]
  },
  {
   "cell_type": "code",
   "execution_count": 2,
   "metadata": {},
   "outputs": [
    {
     "name": "stdout",
     "output_type": "stream",
     "text": [
      "[0, 0, 0, 0, 0]\n"
     ]
    }
   ],
   "source": [
    "print(my_array)"
   ]
  },
  {
   "cell_type": "code",
   "execution_count": 2,
   "metadata": {},
   "outputs": [],
   "source": [
    "import unittest\n",
    "import inspect\n",
    "from src.ds_array import Array  # Replace 'your_array_module' with the actual module name\n",
    "\n",
    "class TestArrayConstructor(unittest.TestCase):\n",
    "\n",
    "    def test_valid_size(self):\n",
    "        \"\"\"Test creating an array with a valid size.\"\"\"\n",
    "        sizes = [1, 5, 10, 100]\n",
    "        types = [int, float, str]\n",
    "\n",
    "        for size in sizes:\n",
    "            for typeof in types:\n",
    "                arr = Array(size, typeof)\n",
    "                self.assertEqual(arr._max_size, size)\n",
    "                self.assertEqual(arr._current_size, 0)\n",
    "                self.assertEqual(len(arr._allocated_cell), size)\n",
    "                self.assertEqual(arr._iter_position, 0)\n",
    "                self.assertIsInstance(arr._allocated_cell, list)\n",
    "\n",
    "    def test_zero_size(self):\n",
    "        \"\"\"Test creating an array with size zero (should raise ValueError).\"\"\"\n",
    "        with self.assertRaises(ValueError) as context:\n",
    "            Array(0, int)\n",
    "        self.assertEqual(str(context.exception), \"Size: 0, must be larger than zero\")\n",
    "\n",
    "    def test_negative_size(self):\n",
    "        \"\"\"Test creating an array with a negative size (should raise ValueError).\"\"\"\n",
    "        with self.assertRaises(ValueError) as context:\n",
    "            Array(-5, float)\n",
    "        self.assertEqual(str(context.exception), \"Size: -5, must be larger than zero\")\n",
    "\n",
    "    def test_non_integer_size(self):\n",
    "        \"\"\"Test creating an array with a non-integer size (should raise ValueError).\"\"\"\n",
    "        invalid_sizes = [\"abc\", 3.14, True]\n",
    "\n",
    "        for size in invalid_sizes:\n",
    "            with self.assertRaises(ValueError) as context:\n",
    "                Array(size, str)\n",
    "            self.assertTrue(\n",
    "                str(context.exception).startswith(f\"Value: {size}, of type:\")\n",
    "            )\n",
    "\n"
   ]
  },
  {
   "cell_type": "code",
   "execution_count": 9,
   "metadata": {},
   "outputs": [
    {
     "ename": "ValueError",
     "evalue": "Value: 10, of type: <class 'str'>, is not an int.",
     "output_type": "error",
     "traceback": [
      "\u001b[1;31m---------------------------------------------------------------------------\u001b[0m",
      "\u001b[1;31mValueError\u001b[0m                                Traceback (most recent call last)",
      "Cell \u001b[1;32mIn[9], line 1\u001b[0m\n\u001b[1;32m----> 1\u001b[0m test \u001b[38;5;241m=\u001b[39m \u001b[43mArray\u001b[49m\u001b[43m(\u001b[49m\u001b[38;5;124;43m\"\u001b[39;49m\u001b[38;5;124;43m10\u001b[39;49m\u001b[38;5;124;43m\"\u001b[39;49m\u001b[43m,\u001b[49m\u001b[43m \u001b[49m\u001b[38;5;28;43mstr\u001b[39;49m\u001b[43m)\u001b[49m\n",
      "File \u001b[1;32mc:\\Users\\camer\\Documents\\GitHub\\python_ds\\ds_array.py:18\u001b[0m, in \u001b[0;36mArray.__init__\u001b[1;34m(self, size, typeof)\u001b[0m\n\u001b[0;32m     16\u001b[0m     \u001b[38;5;28mself\u001b[39m\u001b[38;5;241m.\u001b[39m_iter_position \u001b[38;5;241m=\u001b[39m \u001b[38;5;241m0\u001b[39m\n\u001b[0;32m     17\u001b[0m \u001b[38;5;28;01melse\u001b[39;00m:\n\u001b[1;32m---> 18\u001b[0m     \u001b[38;5;28;01mraise\u001b[39;00m \u001b[38;5;167;01mValueError\u001b[39;00m(\u001b[38;5;124mf\u001b[39m\u001b[38;5;124m\"\u001b[39m\u001b[38;5;124mValue: \u001b[39m\u001b[38;5;132;01m{\u001b[39;00msize\u001b[38;5;132;01m}\u001b[39;00m\u001b[38;5;124m, of type: \u001b[39m\u001b[38;5;132;01m{\u001b[39;00m\u001b[38;5;28mtype\u001b[39m(size)\u001b[38;5;132;01m}\u001b[39;00m\u001b[38;5;124m, is not an int.\u001b[39m\u001b[38;5;124m\"\u001b[39m)\n",
      "\u001b[1;31mValueError\u001b[0m: Value: 10, of type: <class 'str'>, is not an int."
     ]
    }
   ],
   "source": [
    "test = Array(\"10\", str)"
   ]
  },
  {
   "cell_type": "code",
   "execution_count": 4,
   "metadata": {},
   "outputs": [
    {
     "name": "stderr",
     "output_type": "stream",
     "text": [
      ".F..\n",
      "======================================================================\n",
      "FAIL: test_non_integer_size (__main__.TestArrayConstructor)\n",
      "Test creating an array with a non-integer size (should raise ValueError).\n",
      "----------------------------------------------------------------------\n",
      "Traceback (most recent call last):\n",
      "  File \"C:\\Users\\camer\\AppData\\Local\\Temp\\ipykernel_39788\\2142070297.py\", line 38, in test_non_integer_size\n",
      "    with self.assertRaises(ValueError) as context:\n",
      "AssertionError: ValueError not raised\n",
      "\n",
      "----------------------------------------------------------------------\n",
      "Ran 4 tests in 0.002s\n",
      "\n",
      "FAILED (failures=1)\n"
     ]
    },
    {
     "data": {
      "text/plain": [
       "<unittest.main.TestProgram at 0x271f5882080>"
      ]
     },
     "execution_count": 4,
     "metadata": {},
     "output_type": "execute_result"
    }
   ],
   "source": [
    "\n",
    "\n",
    "unittest.main(argv=['first-arg-is-ignored'], exit=False)"
   ]
  },
  {
   "cell_type": "code",
   "execution_count": 10,
   "metadata": {},
   "outputs": [
    {
     "data": {
      "text/plain": [
       "['__call__',\n",
       " '__eq__',\n",
       " '__hash__',\n",
       " '__init__',\n",
       " '__repr__',\n",
       " '__str__',\n",
       " '_addExpectedFailure',\n",
       " '_addSkip',\n",
       " '_addUnexpectedSuccess',\n",
       " '_baseAssertEqual',\n",
       " '_callCleanup',\n",
       " '_callSetUp',\n",
       " '_callTearDown',\n",
       " '_callTestMethod',\n",
       " '_deprecate',\n",
       " '_feedErrorsToResult',\n",
       " '_formatMessage',\n",
       " '_getAssertEqualityFunc',\n",
       " '_truncateMessage',\n",
       " 'addCleanup',\n",
       " 'addTypeEqualityFunc',\n",
       " 'assertAlmostEqual',\n",
       " 'assertAlmostEquals',\n",
       " 'assertCountEqual',\n",
       " 'assertDictContainsSubset',\n",
       " 'assertDictEqual',\n",
       " 'assertEqual',\n",
       " 'assertEquals',\n",
       " 'assertFalse',\n",
       " 'assertGreater',\n",
       " 'assertGreaterEqual',\n",
       " 'assertIn',\n",
       " 'assertIs',\n",
       " 'assertIsInstance',\n",
       " 'assertIsNone',\n",
       " 'assertIsNot',\n",
       " 'assertIsNotNone',\n",
       " 'assertLess',\n",
       " 'assertLessEqual',\n",
       " 'assertListEqual',\n",
       " 'assertLogs',\n",
       " 'assertMultiLineEqual',\n",
       " 'assertNoLogs',\n",
       " 'assertNotAlmostEqual',\n",
       " 'assertNotAlmostEquals',\n",
       " 'assertNotEqual',\n",
       " 'assertNotEquals',\n",
       " 'assertNotIn',\n",
       " 'assertNotIsInstance',\n",
       " 'assertNotRegex',\n",
       " 'assertNotRegexpMatches',\n",
       " 'assertRaises',\n",
       " 'assertRaisesRegex',\n",
       " 'assertRaisesRegexp',\n",
       " 'assertRegex',\n",
       " 'assertRegexpMatches',\n",
       " 'assertSequenceEqual',\n",
       " 'assertSetEqual',\n",
       " 'assertTrue',\n",
       " 'assertTupleEqual',\n",
       " 'assertWarns',\n",
       " 'assertWarnsRegex',\n",
       " 'assert_',\n",
       " 'countTestCases',\n",
       " 'debug',\n",
       " 'defaultTestResult',\n",
       " 'doCleanups',\n",
       " 'fail',\n",
       " 'failIf',\n",
       " 'failIfAlmostEqual',\n",
       " 'failIfEqual',\n",
       " 'failUnless',\n",
       " 'failUnlessAlmostEqual',\n",
       " 'failUnlessEqual',\n",
       " 'failUnlessRaises',\n",
       " 'id',\n",
       " 'run',\n",
       " 'setUp',\n",
       " 'shortDescription',\n",
       " 'skipTest',\n",
       " 'subTest',\n",
       " 'tearDown',\n",
       " 'test_negative_size',\n",
       " 'test_non_integer_size',\n",
       " 'test_valid_size',\n",
       " 'test_zero_size']"
      ]
     },
     "execution_count": 10,
     "metadata": {},
     "output_type": "execute_result"
    }
   ],
   "source": []
  }
 ],
 "metadata": {
  "kernelspec": {
   "display_name": "ml0",
   "language": "python",
   "name": "python3"
  },
  "language_info": {
   "codemirror_mode": {
    "name": "ipython",
    "version": 3
   },
   "file_extension": ".py",
   "mimetype": "text/x-python",
   "name": "python",
   "nbconvert_exporter": "python",
   "pygments_lexer": "ipython3",
   "version": "3.10.14"
  }
 },
 "nbformat": 4,
 "nbformat_minor": 2
}
